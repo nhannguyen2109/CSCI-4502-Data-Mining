{
 "cells": [
  {
   "cell_type": "code",
   "execution_count": 1,
   "metadata": {},
   "outputs": [
    {
     "name": "stdout",
     "output_type": "stream",
     "text": [
      "       adult                              belongs_to_collection    budget  \\\n",
      "0      False  {'id': 10194, 'name': 'Toy Story Collection', ...  30000000   \n",
      "1      False                                                NaN  65000000   \n",
      "2      False  {'id': 119050, 'name': 'Grumpy Old Men Collect...         0   \n",
      "3      False                                                NaN  16000000   \n",
      "4      False  {'id': 96871, 'name': 'Father of the Bride Col...         0   \n",
      "5      False                                                NaN  60000000   \n",
      "6      False                                                NaN  58000000   \n",
      "7      False                                                NaN         0   \n",
      "8      False                                                NaN  35000000   \n",
      "9      False  {'id': 645, 'name': 'James Bond Collection', '...  58000000   \n",
      "10     False                                                NaN  62000000   \n",
      "11     False                                                NaN         0   \n",
      "12     False  {'id': 117693, 'name': 'Balto Collection', 'po...         0   \n",
      "13     False                                                NaN  44000000   \n",
      "14     False                                                NaN  98000000   \n",
      "15     False                                                NaN  52000000   \n",
      "16     False                                                NaN  16500000   \n",
      "17     False                                                NaN   4000000   \n",
      "18     False  {'id': 3167, 'name': 'Ace Ventura Collection',...  30000000   \n",
      "19     False                                                NaN  60000000   \n",
      "20     False  {'id': 91698, 'name': 'Chili Palmer Collection...  30250000   \n",
      "21     False                                                NaN         0   \n",
      "22     False                                                NaN  50000000   \n",
      "23     False                                                NaN         0   \n",
      "24     False                                                NaN   3600000   \n",
      "25     False                                                NaN         0   \n",
      "26     False                                                NaN  12000000   \n",
      "27     False                                                NaN         0   \n",
      "28     False                                                NaN  18000000   \n",
      "29     False                                                NaN         0   \n",
      "...      ...                                                ...       ...   \n",
      "45436  False                                                NaN         0   \n",
      "45437  False                                                NaN         0   \n",
      "45438  False                                                NaN         0   \n",
      "45439  False                                                NaN         0   \n",
      "45440  False                                                NaN         0   \n",
      "45441  False                                                NaN         0   \n",
      "45442  False                                                NaN         0   \n",
      "45443  False                                                NaN         0   \n",
      "45444  False                                                NaN         0   \n",
      "45445  False                                                NaN         0   \n",
      "45446  False                                                NaN         0   \n",
      "45447  False                                                NaN         0   \n",
      "45448  False                                                NaN         0   \n",
      "45449  False                                                NaN         0   \n",
      "45450  False                                                NaN         0   \n",
      "45451  False                                                NaN         0   \n",
      "45452  False                                                NaN         0   \n",
      "45453  False                                                NaN         0   \n",
      "45454  False                                                NaN         0   \n",
      "45455  False                                                NaN         0   \n",
      "45456  False                                                NaN         0   \n",
      "45457  False                                                NaN         0   \n",
      "45458  False                                                NaN         0   \n",
      "45459  False                                                NaN         0   \n",
      "45460  False                                                NaN         0   \n",
      "45461  False                                                NaN         0   \n",
      "45462  False                                                NaN         0   \n",
      "45463  False                                                NaN         0   \n",
      "45464  False                                                NaN         0   \n",
      "45465  False                                                NaN         0   \n",
      "\n",
      "                                                  genres  \\\n",
      "0      [{'id': 16, 'name': 'Animation'}, {'id': 35, '...   \n",
      "1      [{'id': 12, 'name': 'Adventure'}, {'id': 14, '...   \n",
      "2      [{'id': 10749, 'name': 'Romance'}, {'id': 35, ...   \n",
      "3      [{'id': 35, 'name': 'Comedy'}, {'id': 18, 'nam...   \n",
      "4                         [{'id': 35, 'name': 'Comedy'}]   \n",
      "5      [{'id': 28, 'name': 'Action'}, {'id': 80, 'nam...   \n",
      "6      [{'id': 35, 'name': 'Comedy'}, {'id': 10749, '...   \n",
      "7      [{'id': 28, 'name': 'Action'}, {'id': 12, 'nam...   \n",
      "8      [{'id': 28, 'name': 'Action'}, {'id': 12, 'nam...   \n",
      "9      [{'id': 12, 'name': 'Adventure'}, {'id': 28, '...   \n",
      "10     [{'id': 35, 'name': 'Comedy'}, {'id': 18, 'nam...   \n",
      "11     [{'id': 35, 'name': 'Comedy'}, {'id': 27, 'nam...   \n",
      "12     [{'id': 10751, 'name': 'Family'}, {'id': 16, '...   \n",
      "13     [{'id': 36, 'name': 'History'}, {'id': 18, 'na...   \n",
      "14     [{'id': 28, 'name': 'Action'}, {'id': 12, 'nam...   \n",
      "15     [{'id': 18, 'name': 'Drama'}, {'id': 80, 'name...   \n",
      "16     [{'id': 18, 'name': 'Drama'}, {'id': 10749, 'n...   \n",
      "17     [{'id': 80, 'name': 'Crime'}, {'id': 35, 'name...   \n",
      "18     [{'id': 80, 'name': 'Crime'}, {'id': 35, 'name...   \n",
      "19     [{'id': 28, 'name': 'Action'}, {'id': 35, 'nam...   \n",
      "20     [{'id': 35, 'name': 'Comedy'}, {'id': 53, 'nam...   \n",
      "21     [{'id': 18, 'name': 'Drama'}, {'id': 53, 'name...   \n",
      "22     [{'id': 28, 'name': 'Action'}, {'id': 12, 'nam...   \n",
      "23     [{'id': 18, 'name': 'Drama'}, {'id': 14, 'name...   \n",
      "24     [{'id': 18, 'name': 'Drama'}, {'id': 10749, 'n...   \n",
      "25                         [{'id': 18, 'name': 'Drama'}]   \n",
      "26     [{'id': 35, 'name': 'Comedy'}, {'id': 18, 'nam...   \n",
      "27     [{'id': 18, 'name': 'Drama'}, {'id': 10749, 'n...   \n",
      "28     [{'id': 14, 'name': 'Fantasy'}, {'id': 878, 'n...   \n",
      "29     [{'id': 18, 'name': 'Drama'}, {'id': 80, 'name...   \n",
      "...                                                  ...   \n",
      "45436  [{'id': 28, 'name': 'Action'}, {'id': 9648, 'n...   \n",
      "45437  [{'id': 10751, 'name': 'Family'}, {'id': 16, '...   \n",
      "45438                      [{'id': 18, 'name': 'Drama'}]   \n",
      "45439  [{'id': 18, 'name': 'Drama'}, {'id': 14, 'name...   \n",
      "45440  [{'id': 18, 'name': 'Drama'}, {'id': 10751, 'n...   \n",
      "45441                     [{'id': 35, 'name': 'Comedy'}]   \n",
      "45442                                                 []   \n",
      "45443  [{'id': 35, 'name': 'Comedy'}, {'id': 14, 'nam...   \n",
      "45444                    [{'id': 14, 'name': 'Fantasy'}]   \n",
      "45445  [{'id': 14, 'name': 'Fantasy'}, {'id': 35, 'na...   \n",
      "45446  [{'id': 14, 'name': 'Fantasy'}, {'id': 35, 'na...   \n",
      "45447                                                 []   \n",
      "45448                                                 []   \n",
      "45449  [{'id': 16, 'name': 'Animation'}, {'id': 10751...   \n",
      "45450  [{'id': 14, 'name': 'Fantasy'}, {'id': 28, 'na...   \n",
      "45451  [{'id': 35, 'name': 'Comedy'}, {'id': 14, 'nam...   \n",
      "45452                [{'id': 99, 'name': 'Documentary'}]   \n",
      "45453  [{'id': 80, 'name': 'Crime'}, {'id': 18, 'name...   \n",
      "45454  [{'id': 35, 'name': 'Comedy'}, {'id': 18, 'nam...   \n",
      "45455                                                 []   \n",
      "45456  [{'id': 27, 'name': 'Horror'}, {'id': 9648, 'n...   \n",
      "45457  [{'id': 9648, 'name': 'Mystery'}, {'id': 27, '...   \n",
      "45458                     [{'id': 27, 'name': 'Horror'}]   \n",
      "45459           [{'id': 878, 'name': 'Science Fiction'}]   \n",
      "45460  [{'id': 18, 'name': 'Drama'}, {'id': 28, 'name...   \n",
      "45461  [{'id': 18, 'name': 'Drama'}, {'id': 10751, 'n...   \n",
      "45462                      [{'id': 18, 'name': 'Drama'}]   \n",
      "45463  [{'id': 28, 'name': 'Action'}, {'id': 18, 'nam...   \n",
      "45464                                                 []   \n",
      "45465                                                 []   \n",
      "\n",
      "                                                homepage      id    imdb_id  \\\n",
      "0                   http://toystory.disney.com/toy-story     862  tt0114709   \n",
      "1                                                    NaN    8844  tt0113497   \n",
      "2                                                    NaN   15602  tt0113228   \n",
      "3                                                    NaN   31357  tt0114885   \n",
      "4                                                    NaN   11862  tt0113041   \n",
      "5                                                    NaN     949  tt0113277   \n",
      "6                                                    NaN   11860  tt0114319   \n",
      "7                                                    NaN   45325  tt0112302   \n",
      "8                                                    NaN    9091  tt0114576   \n",
      "9           http://www.mgm.com/view/movie/757/Goldeneye/     710  tt0113189   \n",
      "10                                                   NaN    9087  tt0112346   \n",
      "11                                                   NaN   12110  tt0112896   \n",
      "12                                                   NaN   21032  tt0112453   \n",
      "13                                                   NaN   10858  tt0113987   \n",
      "14                                                   NaN    1408  tt0112760   \n",
      "15                                                   NaN     524  tt0112641   \n",
      "16                                                   NaN    4584  tt0114388   \n",
      "17                                                   NaN       5  tt0113101   \n",
      "18                                                   NaN    9273  tt0112281   \n",
      "19                                                   NaN   11517  tt0113845   \n",
      "20                                                   NaN    8012  tt0113161   \n",
      "21                                                   NaN    1710  tt0112722   \n",
      "22                                                   NaN    9691  tt0112401   \n",
      "23                                                   NaN   12665  tt0114168   \n",
      "24     http://www.mgm.com/title_title.do?title_star=L...     451  tt0113627   \n",
      "25                                                   NaN   16420  tt0114057   \n",
      "26                                                   NaN    9263  tt0114011   \n",
      "27                                                   NaN   17015  tt0114117   \n",
      "28                                                   NaN     902  tt0112682   \n",
      "29                                                   NaN   37557  tt0115012   \n",
      "...                                                  ...     ...        ...   \n",
      "45436                                                NaN   45527  tt1331329   \n",
      "45437                                                NaN  455661  tt6969946   \n",
      "45438                                                NaN  327237  tt3814486   \n",
      "45439                                                NaN   84710  tt0036975   \n",
      "45440                                                NaN   39562  tt0889600   \n",
      "45441                                                NaN   14008  tt0294425   \n",
      "45442                                                NaN   44330  tt0135690   \n",
      "45443                                                NaN   49279  tt0000359   \n",
      "45444                                                NaN   44333  tt0135179   \n",
      "45445                                                NaN   49277  tt0135122   \n",
      "45446                                                NaN   49271  tt0127948   \n",
      "45447                                                NaN   44324  tt0135631   \n",
      "45448                                                NaN  122036  tt0224286   \n",
      "45449                                                NaN   14885  tt0457437   \n",
      "45450                                                NaN   49280  tt0135453   \n",
      "45451                                                NaN  106807  tt0135571   \n",
      "45452                                                NaN  276895  tt3054038   \n",
      "45453                                                NaN  404604  tt5690142   \n",
      "45454                                                NaN  420346  tt4130180   \n",
      "45455                                                NaN   67179  tt0069215   \n",
      "45456                                                NaN   84419  tt0038621   \n",
      "45457                                                NaN  390959  tt0265736   \n",
      "45458                                                NaN  289923  tt0252966   \n",
      "45459                                                NaN  222848  tt0112613   \n",
      "45460                                                NaN   30840  tt0102797   \n",
      "45461               http://www.imdb.com/title/tt6209470/  439050  tt6209470   \n",
      "45462                                                NaN  111109  tt2028550   \n",
      "45463                                                NaN   67758  tt0303758   \n",
      "45464                                                NaN  227506  tt0008536   \n",
      "45465                                                NaN  461257  tt6980792   \n",
      "\n",
      "      original_language                     original_title  \\\n",
      "0                    en                          Toy Story   \n",
      "1                    en                            Jumanji   \n",
      "2                    en                   Grumpier Old Men   \n",
      "3                    en                  Waiting to Exhale   \n",
      "4                    en        Father of the Bride Part II   \n",
      "5                    en                               Heat   \n",
      "6                    en                            Sabrina   \n",
      "7                    en                       Tom and Huck   \n",
      "8                    en                       Sudden Death   \n",
      "9                    en                          GoldenEye   \n",
      "10                   en             The American President   \n",
      "11                   en        Dracula: Dead and Loving It   \n",
      "12                   en                              Balto   \n",
      "13                   en                              Nixon   \n",
      "14                   en                   Cutthroat Island   \n",
      "15                   en                             Casino   \n",
      "16                   en              Sense and Sensibility   \n",
      "17                   en                         Four Rooms   \n",
      "18                   en     Ace Ventura: When Nature Calls   \n",
      "19                   en                        Money Train   \n",
      "20                   en                         Get Shorty   \n",
      "21                   en                            Copycat   \n",
      "22                   en                          Assassins   \n",
      "23                   en                             Powder   \n",
      "24                   en                  Leaving Las Vegas   \n",
      "25                   en                            Othello   \n",
      "26                   en                       Now and Then   \n",
      "27                   en                         Persuasion   \n",
      "28                   fr         La Cité des Enfants Perdus   \n",
      "29                   zh                          摇啊摇，摇到外婆桥   \n",
      "...                 ...                                ...   \n",
      "45436                en                    The Final Storm   \n",
      "45437                en                     In a Heartbeat   \n",
      "45438                nl             Bloed, Zweet en Tranen   \n",
      "45439                en                       Jungle Woman   \n",
      "45440                en                  To Be Fat Like Me   \n",
      "45441                en                        Cadet Kelly   \n",
      "45442                en               Le tripot clandestin   \n",
      "45443                fr    L'Homme à la tête de caoutchouc   \n",
      "45444                fr                Les cartes vivantes   \n",
      "45445                en           Les affiches en goguette   \n",
      "45446                en            Le locataire diabolique   \n",
      "45447                fr               Le Roi du maquillage   \n",
      "45448                fr  Les Transmutations imperceptibles   \n",
      "45449                en   Pooh's Heffalump Halloween Movie   \n",
      "45450                fr                  L'Homme orchestre   \n",
      "45451                fr     Nouvelles luttes extravagantes   \n",
      "45452                en                        Deep Hearts   \n",
      "45453                hi                                Maa   \n",
      "45454                en                  The Morning After   \n",
      "45455                it         San Michele aveva un gallo   \n",
      "45456                en                   House of Horrors   \n",
      "45457                en          Shadow of the Blair Witch   \n",
      "45458                en                The Burkittsville 7   \n",
      "45459                en                    Caged Heat 3000   \n",
      "45460                en                         Robin Hood   \n",
      "45461                fa                            رگ خواب   \n",
      "45462                tl                Siglo ng Pagluluwal   \n",
      "45463                en                           Betrayal   \n",
      "45464                en                Satana likuyushchiy   \n",
      "45465                en                           Queerama   \n",
      "\n",
      "                                                overview    ...      \\\n",
      "0      Led by Woody, Andy's toys live happily in his ...    ...       \n",
      "1      When siblings Judy and Peter discover an encha...    ...       \n",
      "2      A family wedding reignites the ancient feud be...    ...       \n",
      "3      Cheated on, mistreated and stepped on, the wom...    ...       \n",
      "4      Just when George Banks has recovered from his ...    ...       \n",
      "5      Obsessive master thief, Neil McCauley leads a ...    ...       \n",
      "6      An ugly duckling having undergone a remarkable...    ...       \n",
      "7      A mischievous young boy, Tom Sawyer, witnesses...    ...       \n",
      "8      International action superstar Jean Claude Van...    ...       \n",
      "9      James Bond must unmask the mysterious head of ...    ...       \n",
      "10     Widowed U.S. president Andrew Shepherd, one of...    ...       \n",
      "11     When a lawyer shows up at the vampire's doorst...    ...       \n",
      "12     An outcast half-wolf risks his life to prevent...    ...       \n",
      "13     An all-star cast powers this epic look at Amer...    ...       \n",
      "14     Morgan Adams and her slave, William Shaw, are ...    ...       \n",
      "15     The life of the gambling paradise – Las Vegas ...    ...       \n",
      "16     Rich Mr. Dashwood dies, leaving his second wif...    ...       \n",
      "17     It's Ted the Bellhop's first night on the job....    ...       \n",
      "18     Summoned from an ashram in Tibet, Ace finds hi...    ...       \n",
      "19     A vengeful New York transit cop decides to ste...    ...       \n",
      "20     Chili Palmer is a Miami mobster who gets sent ...    ...       \n",
      "21     An agoraphobic psychologist and a female detec...    ...       \n",
      "22     Assassin Robert Rath arrives at a funeral to k...    ...       \n",
      "23     Harassed by classmates who won't accept his sh...    ...       \n",
      "24     Ben Sanderson, an alcoholic Hollywood screenwr...    ...       \n",
      "25     The evil Iago pretends to be friend of Othello...    ...       \n",
      "26     Waxing nostalgic about the bittersweet passage...    ...       \n",
      "27     This film adaptation of Jane Austen's last nov...    ...       \n",
      "28     A scientist in a surrealist society kidnaps ch...    ...       \n",
      "29     A provincial boy related to a Shanghai crime f...    ...       \n",
      "...                                                  ...    ...       \n",
      "45436  A stranger named Silas flees from a devastatin...    ...       \n",
      "45437  A closeted boy runs the risk of being outed by...    ...       \n",
      "45438  Bloed, Zweet en Tranen (Blood, Sweat and Tears...    ...       \n",
      "45439  Paula the ape woman (Acquanetta) is alive and ...    ...       \n",
      "45440  Pretty, popular, and slim high-schooler Aly Sc...    ...       \n",
      "45441  Hyperactive teenager Kelly is enrolled into a ...    ...       \n",
      "45442  A combination gambling den and bawdy house is ...    ...       \n",
      "45443  A chemist in his laboratory places upon a tabl...    ...       \n",
      "45444  A bearded magician holds up a large playing ca...    ...       \n",
      "45445  A wall full of advertising posters comes to life.    ...       \n",
      "45446  A man rents an apartment and furnishes it in r...    ...       \n",
      "45447  The background of this picture represents a sc...    ...       \n",
      "45448  This shows a prince entering upon the stage of...    ...       \n",
      "45449  It's Halloween in the 100 Acre Wood, and Roo's...    ...       \n",
      "45450  A band-leader has arranged seven chairs for th...    ...       \n",
      "45451         A series of fantastical wrestling matches.    ...       \n",
      "45452  Deep Hearts is a film about the Bororo Fulani,...    ...       \n",
      "45453  The bliss of a biology teacher’s family life i...    ...       \n",
      "45454  The Morning After is a feature film that consi...    ...       \n",
      "45455  Sentenced to life imprisonment for illegal act...    ...       \n",
      "45456  An unsuccessful sculptor saves a madman named ...    ...       \n",
      "45457  In this true-crime documentary, we delve into ...    ...       \n",
      "45458  A film archivist revisits the story of Rustin ...    ...       \n",
      "45459  It's the year 3000 AD. The world's most danger...    ...       \n",
      "45460  Yet another version of the classic epic, with ...    ...       \n",
      "45461        Rising and falling between a man and woman.    ...       \n",
      "45462  An artist struggles to finish his work while a...    ...       \n",
      "45463  When one of her hits goes wrong, a professiona...    ...       \n",
      "45464  In a small town live two brothers, one a minis...    ...       \n",
      "45465  50 years after decriminalisation of homosexual...    ...       \n",
      "\n",
      "      release_date      revenue runtime  \\\n",
      "0       1995-10-30  373554033.0    81.0   \n",
      "1       1995-12-15  262797249.0   104.0   \n",
      "2       1995-12-22          0.0   101.0   \n",
      "3       1995-12-22   81452156.0   127.0   \n",
      "4       1995-02-10   76578911.0   106.0   \n",
      "5       1995-12-15  187436818.0   170.0   \n",
      "6       1995-12-15          0.0   127.0   \n",
      "7       1995-12-22          0.0    97.0   \n",
      "8       1995-12-22   64350171.0   106.0   \n",
      "9       1995-11-16  352194034.0   130.0   \n",
      "10      1995-11-17  107879496.0   106.0   \n",
      "11      1995-12-22          0.0    88.0   \n",
      "12      1995-12-22   11348324.0    78.0   \n",
      "13      1995-12-22   13681765.0   192.0   \n",
      "14      1995-12-22   10017322.0   119.0   \n",
      "15      1995-11-22  116112375.0   178.0   \n",
      "16      1995-12-13  135000000.0   136.0   \n",
      "17      1995-12-09    4300000.0    98.0   \n",
      "18      1995-11-10  212385533.0    90.0   \n",
      "19      1995-11-21   35431113.0   103.0   \n",
      "20      1995-10-20  115101622.0   105.0   \n",
      "21      1995-10-27          0.0   124.0   \n",
      "22      1995-10-06   30303072.0   132.0   \n",
      "23      1995-10-27          0.0   111.0   \n",
      "24      1995-10-27   49800000.0   112.0   \n",
      "25      1995-12-15          0.0   123.0   \n",
      "26      1995-10-20   27400000.0   100.0   \n",
      "27      1995-09-27          0.0   104.0   \n",
      "28      1995-05-16    1738611.0   108.0   \n",
      "29      1995-04-30          0.0   108.0   \n",
      "...            ...          ...     ...   \n",
      "45436   2010-01-01          0.0    92.0   \n",
      "45437   2017-06-01          0.0     4.0   \n",
      "45438   2015-04-02          0.0   111.0   \n",
      "45439   1944-06-01          0.0    61.0   \n",
      "45440   2007-01-08          0.0    89.0   \n",
      "45441   2002-03-07          0.0   101.0   \n",
      "45442   1905-01-01          0.0     3.0   \n",
      "45443   1901-01-01          0.0     3.0   \n",
      "45444   1905-01-01          0.0     3.0   \n",
      "45445   1906-01-01          0.0     3.0   \n",
      "45446   1909-01-01          0.0     6.0   \n",
      "45447   1904-03-05          0.0     3.0   \n",
      "45448   1904-01-01          0.0     2.0   \n",
      "45449   2005-09-13          0.0    67.0   \n",
      "45450   1900-01-01          0.0     1.0   \n",
      "45451   1900-01-01          0.0     2.0   \n",
      "45452   1981-01-01          0.0    58.0   \n",
      "45453   2017-07-07          0.0   146.0   \n",
      "45454   2015-01-11          0.0    79.0   \n",
      "45455   1972-01-01          0.0    90.0   \n",
      "45456   1946-03-29          0.0    65.0   \n",
      "45457   2000-10-22          0.0    45.0   \n",
      "45458   2000-10-03          0.0    30.0   \n",
      "45459   1995-01-01          0.0    85.0   \n",
      "45460   1991-05-13          0.0   104.0   \n",
      "45461          NaN          0.0    90.0   \n",
      "45462   2011-11-17          0.0   360.0   \n",
      "45463   2003-08-01          0.0    90.0   \n",
      "45464   1917-10-21          0.0    87.0   \n",
      "45465   2017-06-09          0.0    75.0   \n",
      "\n",
      "                                        spoken_languages    status  \\\n",
      "0               [{'iso_639_1': 'en', 'name': 'English'}]  Released   \n",
      "1      [{'iso_639_1': 'en', 'name': 'English'}, {'iso...  Released   \n",
      "2               [{'iso_639_1': 'en', 'name': 'English'}]  Released   \n",
      "3               [{'iso_639_1': 'en', 'name': 'English'}]  Released   \n",
      "4               [{'iso_639_1': 'en', 'name': 'English'}]  Released   \n",
      "5      [{'iso_639_1': 'en', 'name': 'English'}, {'iso...  Released   \n",
      "6      [{'iso_639_1': 'fr', 'name': 'Français'}, {'is...  Released   \n",
      "7      [{'iso_639_1': 'en', 'name': 'English'}, {'iso...  Released   \n",
      "8               [{'iso_639_1': 'en', 'name': 'English'}]  Released   \n",
      "9      [{'iso_639_1': 'en', 'name': 'English'}, {'iso...  Released   \n",
      "10              [{'iso_639_1': 'en', 'name': 'English'}]  Released   \n",
      "11     [{'iso_639_1': 'en', 'name': 'English'}, {'iso...  Released   \n",
      "12              [{'iso_639_1': 'en', 'name': 'English'}]  Released   \n",
      "13              [{'iso_639_1': 'en', 'name': 'English'}]  Released   \n",
      "14     [{'iso_639_1': 'en', 'name': 'English'}, {'iso...  Released   \n",
      "15              [{'iso_639_1': 'en', 'name': 'English'}]  Released   \n",
      "16              [{'iso_639_1': 'en', 'name': 'English'}]  Released   \n",
      "17              [{'iso_639_1': 'en', 'name': 'English'}]  Released   \n",
      "18              [{'iso_639_1': 'en', 'name': 'English'}]  Released   \n",
      "19              [{'iso_639_1': 'en', 'name': 'English'}]  Released   \n",
      "20              [{'iso_639_1': 'en', 'name': 'English'}]  Released   \n",
      "21     [{'iso_639_1': 'en', 'name': 'English'}, {'iso...  Released   \n",
      "22     [{'iso_639_1': 'en', 'name': 'English'}, {'iso...  Released   \n",
      "23              [{'iso_639_1': 'en', 'name': 'English'}]  Released   \n",
      "24              [{'iso_639_1': 'en', 'name': 'English'}]  Released   \n",
      "25              [{'iso_639_1': 'en', 'name': 'English'}]  Released   \n",
      "26              [{'iso_639_1': 'en', 'name': 'English'}]  Released   \n",
      "27              [{'iso_639_1': 'en', 'name': 'English'}]  Released   \n",
      "28     [{'iso_639_1': 'cn', 'name': '广州话 / 廣州話'}, {'i...  Released   \n",
      "29                  [{'iso_639_1': 'zh', 'name': '普通话'}]  Released   \n",
      "...                                                  ...       ...   \n",
      "45436           [{'iso_639_1': 'en', 'name': 'English'}]  Released   \n",
      "45437           [{'iso_639_1': 'en', 'name': 'English'}]  Released   \n",
      "45438        [{'iso_639_1': 'nl', 'name': 'Nederlands'}]  Released   \n",
      "45439           [{'iso_639_1': 'en', 'name': 'English'}]  Released   \n",
      "45440           [{'iso_639_1': 'en', 'name': 'English'}]  Released   \n",
      "45441           [{'iso_639_1': 'en', 'name': 'English'}]  Released   \n",
      "45442                                                 []       NaN   \n",
      "45443                                                 []  Released   \n",
      "45444       [{'iso_639_1': 'xx', 'name': 'No Language'}]  Released   \n",
      "45445  [{'iso_639_1': 'fr', 'name': 'Français'}, {'is...  Released   \n",
      "45446                                                 []  Released   \n",
      "45447                                                 []  Released   \n",
      "45448                                                 []  Released   \n",
      "45449           [{'iso_639_1': 'en', 'name': 'English'}]  Released   \n",
      "45450       [{'iso_639_1': 'xx', 'name': 'No Language'}]  Released   \n",
      "45451       [{'iso_639_1': 'xx', 'name': 'No Language'}]  Released   \n",
      "45452  [{'iso_639_1': 'ff', 'name': 'Fulfulde'}, {'is...  Released   \n",
      "45453            [{'iso_639_1': 'hi', 'name': 'हिन्दी'}]  Released   \n",
      "45454           [{'iso_639_1': 'en', 'name': 'English'}]  Released   \n",
      "45455          [{'iso_639_1': 'it', 'name': 'Italiano'}]  Released   \n",
      "45456           [{'iso_639_1': 'en', 'name': 'English'}]  Released   \n",
      "45457           [{'iso_639_1': 'en', 'name': 'English'}]  Released   \n",
      "45458           [{'iso_639_1': 'en', 'name': 'English'}]  Released   \n",
      "45459           [{'iso_639_1': 'en', 'name': 'English'}]  Released   \n",
      "45460           [{'iso_639_1': 'en', 'name': 'English'}]  Released   \n",
      "45461             [{'iso_639_1': 'fa', 'name': 'فارسی'}]  Released   \n",
      "45462                  [{'iso_639_1': 'tl', 'name': ''}]  Released   \n",
      "45463           [{'iso_639_1': 'en', 'name': 'English'}]  Released   \n",
      "45464                                                 []  Released   \n",
      "45465           [{'iso_639_1': 'en', 'name': 'English'}]  Released   \n",
      "\n",
      "                                                 tagline  \\\n",
      "0                                                    NaN   \n",
      "1              Roll the dice and unleash the excitement!   \n",
      "2      Still Yelling. Still Fighting. Still Ready for...   \n",
      "3      Friends are the people who let you be yourself...   \n",
      "4      Just When His World Is Back To Normal... He's ...   \n",
      "5                               A Los Angeles Crime Saga   \n",
      "6      You are cordially invited to the most surprisi...   \n",
      "7                                 The Original Bad Boys.   \n",
      "8                             Terror goes into overtime.   \n",
      "9                   No limits. No fears. No substitutes.   \n",
      "10     Why can't the most powerful man in the world h...   \n",
      "11                                                   NaN   \n",
      "12                        Part Dog. Part Wolf. All Hero.   \n",
      "13     Triumphant in Victory, Bitter in Defeat. He Ch...   \n",
      "14     The Course Has Been Set. There Is No Turning B...   \n",
      "15                      No one stays at the top forever.   \n",
      "16              Lose your heart and come to your senses.   \n",
      "17     Twelve outrageous guests. Four scandalous requ...   \n",
      "18               New animals. New adventures. Same hair.   \n",
      "19                           Get on, or GET OUT THE WAY!   \n",
      "20     The mob is tough, but it’s nothing like show b...   \n",
      "21     One man is copying the most notorious killers ...   \n",
      "22     In the shadows of life, In the business of dea...   \n",
      "23     An extraordinary encounter with another human ...   \n",
      "24                        I Love You... The Way You Are.   \n",
      "25                       Envy, greed, jealousy and love.   \n",
      "26     In every woman there is the girl she left behind.   \n",
      "27                                                   NaN   \n",
      "28             Where happily ever after is just a dream.   \n",
      "29     In 1930's Shanghai violence was not the proble...   \n",
      "...                                                  ...   \n",
      "45436                                     Action, Horror   \n",
      "45437               The Heart Wants What The Heart Wants   \n",
      "45438                        The movie about Andre Hazes   \n",
      "45439               RAPTUROUS BEAUTY!...FURY OF A BEAST!   \n",
      "45440                                                NaN   \n",
      "45441                            Too Cool For The Rules!   \n",
      "45442                                                NaN   \n",
      "45443                                                NaN   \n",
      "45444                                                NaN   \n",
      "45445                                                NaN   \n",
      "45446                                                NaN   \n",
      "45447                                                NaN   \n",
      "45448                                                NaN   \n",
      "45449                 Celebrate Lumpy's First Halloween.   \n",
      "45450                                                NaN   \n",
      "45451                                                NaN   \n",
      "45452                                                NaN   \n",
      "45453                                                NaN   \n",
      "45454                          What happened last night?   \n",
      "45455                                                NaN   \n",
      "45456                                Meet...The CREEPER!   \n",
      "45457                                                NaN   \n",
      "45458  Do you know what happened 50 years before \"The...   \n",
      "45459                                                NaN   \n",
      "45460                                                NaN   \n",
      "45461         Rising and falling between a man and woman   \n",
      "45462                                                NaN   \n",
      "45463                             A deadly game of wits.   \n",
      "45464                                                NaN   \n",
      "45465                                                NaN   \n",
      "\n",
      "                                  title  video vote_average vote_count  \n",
      "0                             Toy Story  False          7.7     5415.0  \n",
      "1                               Jumanji  False          6.9     2413.0  \n",
      "2                      Grumpier Old Men  False          6.5       92.0  \n",
      "3                     Waiting to Exhale  False          6.1       34.0  \n",
      "4           Father of the Bride Part II  False          5.7      173.0  \n",
      "5                                  Heat  False          7.7     1886.0  \n",
      "6                               Sabrina  False          6.2      141.0  \n",
      "7                          Tom and Huck  False          5.4       45.0  \n",
      "8                          Sudden Death  False          5.5      174.0  \n",
      "9                             GoldenEye  False          6.6     1194.0  \n",
      "10               The American President  False          6.5      199.0  \n",
      "11          Dracula: Dead and Loving It  False          5.7      210.0  \n",
      "12                                Balto  False          7.1      423.0  \n",
      "13                                Nixon  False          7.1       72.0  \n",
      "14                     Cutthroat Island  False          5.7      137.0  \n",
      "15                               Casino  False          7.8     1343.0  \n",
      "16                Sense and Sensibility  False          7.2      364.0  \n",
      "17                           Four Rooms  False          6.5      539.0  \n",
      "18       Ace Ventura: When Nature Calls  False          6.1     1128.0  \n",
      "19                          Money Train  False          5.4      224.0  \n",
      "20                           Get Shorty  False          6.4      305.0  \n",
      "21                              Copycat  False          6.5      199.0  \n",
      "22                            Assassins  False          6.0      394.0  \n",
      "23                               Powder  False          6.3      143.0  \n",
      "24                    Leaving Las Vegas  False          7.1      365.0  \n",
      "25                              Othello  False          7.0       33.0  \n",
      "26                         Now and Then  False          6.6       91.0  \n",
      "27                           Persuasion  False          7.4       36.0  \n",
      "28            The City of Lost Children  False          7.6      308.0  \n",
      "29                       Shanghai Triad  False          6.5       17.0  \n",
      "...                                 ...    ...          ...        ...  \n",
      "45436                   The Final Storm  False          3.7       11.0  \n",
      "45437                    In a Heartbeat  False          8.3      146.0  \n",
      "45438            Blood, Sweat and Tears  False          6.8       11.0  \n",
      "45439                      Jungle Woman  False          5.8        2.0  \n",
      "45440                 To Be Fat Like Me  False          5.0       12.0  \n",
      "45441                       Cadet Kelly  False          5.2      145.0  \n",
      "45442   The Scheming Gambler's Paradise  False          5.0        3.0  \n",
      "45443      The Man with the Rubber Head  False          7.6       29.0  \n",
      "45444          The Living Playing Cards  False          6.1        8.0  \n",
      "45445             The Hilarious Posters  False          4.5        2.0  \n",
      "45446               The Devilish Tenant  False          6.7       12.0  \n",
      "45447           The Untameable Whiskers  False          6.0        6.0  \n",
      "45448  The Imperceptable Transmutations  False          5.0        2.0  \n",
      "45449  Pooh's Heffalump Halloween Movie  False          5.4        7.0  \n",
      "45450                  The One-Man Band  False          6.5       22.0  \n",
      "45451  The Fat and Lean Wrestling Match  False          6.5        6.0  \n",
      "45452                       Deep Hearts  False          0.0        0.0  \n",
      "45453                               Mom  False          6.6       14.0  \n",
      "45454                 The Morning After  False          4.0        2.0  \n",
      "45455         St. Michael Had a Rooster  False          6.0        3.0  \n",
      "45456                  House of Horrors  False          6.3        8.0  \n",
      "45457         Shadow of the Blair Witch  False          7.0        2.0  \n",
      "45458               The Burkittsville 7  False          7.0        1.0  \n",
      "45459                   Caged Heat 3000  False          3.5        1.0  \n",
      "45460                        Robin Hood  False          5.7       26.0  \n",
      "45461                            Subdue  False          4.0        1.0  \n",
      "45462               Century of Birthing  False          9.0        3.0  \n",
      "45463                          Betrayal  False          3.8        6.0  \n",
      "45464                  Satan Triumphant  False          0.0        0.0  \n",
      "45465                          Queerama  False          0.0        0.0  \n",
      "\n",
      "[45466 rows x 24 columns]\n"
     ]
    },
    {
     "name": "stderr",
     "output_type": "stream",
     "text": [
      "C:\\Users\\Ancie\\Anaconda3\\lib\\site-packages\\IPython\\core\\interactiveshell.py:3020: DtypeWarning: Columns (10) have mixed types. Specify dtype option on import or set low_memory=False.\n",
      "  interactivity=interactivity, compiler=compiler, result=result)\n"
     ]
    }
   ],
   "source": [
    "import pandas as pd\n",
    "import numpy as np\n",
    "import matplotlib.pyplot as plt\n",
    "import datetime\n",
    "\n",
    "#a = pd.read_csv('boxoffice_march_2019.csv')\n",
    "#a.head()\n",
    "\n",
    "data = pd.read_csv('movies_metadata.csv')\n",
    "print(data)"
   ]
  },
  {
   "cell_type": "code",
   "execution_count": 2,
   "metadata": {},
   "outputs": [
    {
     "name": "stdout",
     "output_type": "stream",
     "text": [
      "Adult: False\n"
     ]
    }
   ],
   "source": [
    "print('Adult:' ,data['adult'][0]) "
   ]
  },
  {
   "cell_type": "code",
   "execution_count": 3,
   "metadata": {},
   "outputs": [
    {
     "name": "stdout",
     "output_type": "stream",
     "text": [
      "Collection:  {'id': 10194, 'name': 'Toy Story Collection', 'poster_path': '/7G9915LfUQ2lVfwMEEhDsn3kT4B.jpg', 'backdrop_path': '/9FBwqcd9IRruEDUrTdcaafOMKUq.jpg'}\n"
     ]
    }
   ],
   "source": [
    "print('Collection: ' ,data['belongs_to_collection'][0])"
   ]
  },
  {
   "cell_type": "code",
   "execution_count": 4,
   "metadata": {},
   "outputs": [
    {
     "name": "stdout",
     "output_type": "stream",
     "text": [
      "Budget: 30000000\n"
     ]
    }
   ],
   "source": [
    "print('Budget:' ,data['budget'][0])"
   ]
  },
  {
   "cell_type": "code",
   "execution_count": 5,
   "metadata": {},
   "outputs": [
    {
     "name": "stdout",
     "output_type": "stream",
     "text": [
      "Genre:  [{'id': 16, 'name': 'Animation'}, {'id': 35, 'name': 'Comedy'}, {'id': 10751, 'name': 'Family'}]\n"
     ]
    }
   ],
   "source": [
    "print('Genre: ' ,data['genres'][0])"
   ]
  },
  {
   "cell_type": "code",
   "execution_count": 6,
   "metadata": {},
   "outputs": [
    {
     "name": "stdout",
     "output_type": "stream",
     "text": [
      "Homepage:  http://toystory.disney.com/toy-story\n"
     ]
    }
   ],
   "source": [
    "print('Homepage: ' ,data['homepage'][0])"
   ]
  },
  {
   "cell_type": "code",
   "execution_count": 7,
   "metadata": {},
   "outputs": [
    {
     "name": "stdout",
     "output_type": "stream",
     "text": [
      "ID:  862\n"
     ]
    }
   ],
   "source": [
    "print('ID: ' ,data['id'][0])"
   ]
  },
  {
   "cell_type": "code",
   "execution_count": 8,
   "metadata": {},
   "outputs": [
    {
     "name": "stdout",
     "output_type": "stream",
     "text": [
      "IMDBID:  tt0114709\n"
     ]
    }
   ],
   "source": [
    "print('IMDBID: ' ,data['imdb_id'][0])"
   ]
  },
  {
   "cell_type": "code",
   "execution_count": 9,
   "metadata": {},
   "outputs": [
    {
     "name": "stdout",
     "output_type": "stream",
     "text": [
      "Language:  en\n"
     ]
    }
   ],
   "source": [
    "print('Language: ' ,data['original_language'][0])"
   ]
  },
  {
   "cell_type": "code",
   "execution_count": 10,
   "metadata": {},
   "outputs": [
    {
     "name": "stdout",
     "output_type": "stream",
     "text": [
      "OTitle:  Toy Story\n"
     ]
    }
   ],
   "source": [
    "print('OTitle: ' ,data['original_title'][0])"
   ]
  },
  {
   "cell_type": "code",
   "execution_count": 11,
   "metadata": {},
   "outputs": [
    {
     "name": "stdout",
     "output_type": "stream",
     "text": [
      "Overview:  Led by Woody, Andy's toys live happily in his room until Andy's birthday brings Buzz Lightyear onto the scene. Afraid of losing his place in Andy's heart, Woody plots against Buzz. But when circumstances separate Buzz and Woody from their owner, the duo eventually learns to put aside their differences.\n"
     ]
    }
   ],
   "source": [
    "print('Overview: ' ,data['overview'][0])"
   ]
  },
  {
   "cell_type": "code",
   "execution_count": 12,
   "metadata": {},
   "outputs": [
    {
     "name": "stdout",
     "output_type": "stream",
     "text": [
      "Poster:  /rhIRbceoE9lR4veEXuwCC2wARtG.jpg\n"
     ]
    }
   ],
   "source": [
    "print('Poster: ' ,data['poster_path'][0])"
   ]
  },
  {
   "cell_type": "code",
   "execution_count": 13,
   "metadata": {
    "scrolled": true
   },
   "outputs": [
    {
     "name": "stdout",
     "output_type": "stream",
     "text": [
      "Release:  1995-10-30\n"
     ]
    }
   ],
   "source": [
    "print('Release: ' ,data['release_date'][0])"
   ]
  },
  {
   "cell_type": "code",
   "execution_count": 14,
   "metadata": {},
   "outputs": [
    {
     "name": "stdout",
     "output_type": "stream",
     "text": [
      "Revenue:  373554033.0\n"
     ]
    }
   ],
   "source": [
    "print('Revenue: ' ,data['revenue'][0])"
   ]
  },
  {
   "cell_type": "code",
   "execution_count": 15,
   "metadata": {},
   "outputs": [
    {
     "name": "stdout",
     "output_type": "stream",
     "text": [
      "Time:  81.0\n"
     ]
    }
   ],
   "source": [
    "print('Time: ' ,data['runtime'][0])"
   ]
  },
  {
   "cell_type": "code",
   "execution_count": 16,
   "metadata": {},
   "outputs": [
    {
     "name": "stdout",
     "output_type": "stream",
     "text": [
      "Speak:  [{'iso_639_1': 'en', 'name': 'English'}]\n"
     ]
    }
   ],
   "source": [
    "print('Speak: ' ,data['spoken_languages'][0])"
   ]
  },
  {
   "cell_type": "code",
   "execution_count": 17,
   "metadata": {},
   "outputs": [
    {
     "name": "stdout",
     "output_type": "stream",
     "text": [
      "Status:  Released\n"
     ]
    }
   ],
   "source": [
    "print('Status: ' ,data['status'][0])"
   ]
  },
  {
   "cell_type": "code",
   "execution_count": 18,
   "metadata": {},
   "outputs": [
    {
     "name": "stdout",
     "output_type": "stream",
     "text": [
      "Tag:  nan\n"
     ]
    }
   ],
   "source": [
    "print('Tag: ' ,data['tagline'][0])"
   ]
  },
  {
   "cell_type": "code",
   "execution_count": 19,
   "metadata": {},
   "outputs": [
    {
     "name": "stdout",
     "output_type": "stream",
     "text": [
      "Title:  Toy Story\n"
     ]
    }
   ],
   "source": [
    "print('Title: ' ,data['title'][0])"
   ]
  },
  {
   "cell_type": "code",
   "execution_count": 20,
   "metadata": {},
   "outputs": [
    {
     "name": "stdout",
     "output_type": "stream",
     "text": [
      "Video:  False\n"
     ]
    }
   ],
   "source": [
    "print('Video: ' ,data['video'][0])"
   ]
  },
  {
   "cell_type": "code",
   "execution_count": 21,
   "metadata": {},
   "outputs": [
    {
     "name": "stdout",
     "output_type": "stream",
     "text": [
      "Vote score:  7.7\n"
     ]
    }
   ],
   "source": [
    "print('Vote score: ' ,data['vote_average'][0])"
   ]
  },
  {
   "cell_type": "code",
   "execution_count": 22,
   "metadata": {},
   "outputs": [
    {
     "name": "stdout",
     "output_type": "stream",
     "text": [
      "Vote number:  5415.0\n"
     ]
    }
   ],
   "source": [
    "print('Vote number: ' ,data['vote_count'][0])"
   ]
  },
  {
   "cell_type": "code",
   "execution_count": 23,
   "metadata": {},
   "outputs": [
    {
     "name": "stdout",
     "output_type": "stream",
     "text": [
      "(45466, 16)\n"
     ]
    }
   ],
   "source": [
    "data.drop(['belongs_to_collection', 'homepage', 'original_title', 'overview', 'poster_path', 'tagline', 'status', 'video'],axis=1,inplace=True)\n",
    "print(data.shape)"
   ]
  },
  {
   "cell_type": "code",
   "execution_count": 24,
   "metadata": {},
   "outputs": [
    {
     "data": {
      "text/html": [
       "<div>\n",
       "<style scoped>\n",
       "    .dataframe tbody tr th:only-of-type {\n",
       "        vertical-align: middle;\n",
       "    }\n",
       "\n",
       "    .dataframe tbody tr th {\n",
       "        vertical-align: top;\n",
       "    }\n",
       "\n",
       "    .dataframe thead th {\n",
       "        text-align: right;\n",
       "    }\n",
       "</style>\n",
       "<table border=\"1\" class=\"dataframe\">\n",
       "  <thead>\n",
       "    <tr style=\"text-align: right;\">\n",
       "      <th></th>\n",
       "      <th>adult</th>\n",
       "      <th>budget</th>\n",
       "      <th>genres</th>\n",
       "      <th>id</th>\n",
       "      <th>imdb_id</th>\n",
       "      <th>original_language</th>\n",
       "      <th>popularity</th>\n",
       "      <th>production_companies</th>\n",
       "      <th>production_countries</th>\n",
       "      <th>release_date</th>\n",
       "      <th>revenue</th>\n",
       "      <th>runtime</th>\n",
       "      <th>spoken_languages</th>\n",
       "      <th>title</th>\n",
       "      <th>vote_average</th>\n",
       "      <th>vote_count</th>\n",
       "    </tr>\n",
       "  </thead>\n",
       "  <tbody>\n",
       "    <tr>\n",
       "      <th>0</th>\n",
       "      <td>False</td>\n",
       "      <td>30000000</td>\n",
       "      <td>[{'id': 16, 'name': 'Animation'}, {'id': 35, '...</td>\n",
       "      <td>862</td>\n",
       "      <td>tt0114709</td>\n",
       "      <td>en</td>\n",
       "      <td>21.9469</td>\n",
       "      <td>[{'name': 'Pixar Animation Studios', 'id': 3}]</td>\n",
       "      <td>[{'iso_3166_1': 'US', 'name': 'United States o...</td>\n",
       "      <td>1995-10-30</td>\n",
       "      <td>373554033.0</td>\n",
       "      <td>81.0</td>\n",
       "      <td>[{'iso_639_1': 'en', 'name': 'English'}]</td>\n",
       "      <td>Toy Story</td>\n",
       "      <td>7.7</td>\n",
       "      <td>5415.0</td>\n",
       "    </tr>\n",
       "    <tr>\n",
       "      <th>1</th>\n",
       "      <td>False</td>\n",
       "      <td>65000000</td>\n",
       "      <td>[{'id': 12, 'name': 'Adventure'}, {'id': 14, '...</td>\n",
       "      <td>8844</td>\n",
       "      <td>tt0113497</td>\n",
       "      <td>en</td>\n",
       "      <td>17.0155</td>\n",
       "      <td>[{'name': 'TriStar Pictures', 'id': 559}, {'na...</td>\n",
       "      <td>[{'iso_3166_1': 'US', 'name': 'United States o...</td>\n",
       "      <td>1995-12-15</td>\n",
       "      <td>262797249.0</td>\n",
       "      <td>104.0</td>\n",
       "      <td>[{'iso_639_1': 'en', 'name': 'English'}, {'iso...</td>\n",
       "      <td>Jumanji</td>\n",
       "      <td>6.9</td>\n",
       "      <td>2413.0</td>\n",
       "    </tr>\n",
       "    <tr>\n",
       "      <th>2</th>\n",
       "      <td>False</td>\n",
       "      <td>0</td>\n",
       "      <td>[{'id': 10749, 'name': 'Romance'}, {'id': 35, ...</td>\n",
       "      <td>15602</td>\n",
       "      <td>tt0113228</td>\n",
       "      <td>en</td>\n",
       "      <td>11.7129</td>\n",
       "      <td>[{'name': 'Warner Bros.', 'id': 6194}, {'name'...</td>\n",
       "      <td>[{'iso_3166_1': 'US', 'name': 'United States o...</td>\n",
       "      <td>1995-12-22</td>\n",
       "      <td>0.0</td>\n",
       "      <td>101.0</td>\n",
       "      <td>[{'iso_639_1': 'en', 'name': 'English'}]</td>\n",
       "      <td>Grumpier Old Men</td>\n",
       "      <td>6.5</td>\n",
       "      <td>92.0</td>\n",
       "    </tr>\n",
       "    <tr>\n",
       "      <th>3</th>\n",
       "      <td>False</td>\n",
       "      <td>16000000</td>\n",
       "      <td>[{'id': 35, 'name': 'Comedy'}, {'id': 18, 'nam...</td>\n",
       "      <td>31357</td>\n",
       "      <td>tt0114885</td>\n",
       "      <td>en</td>\n",
       "      <td>3.85949</td>\n",
       "      <td>[{'name': 'Twentieth Century Fox Film Corporat...</td>\n",
       "      <td>[{'iso_3166_1': 'US', 'name': 'United States o...</td>\n",
       "      <td>1995-12-22</td>\n",
       "      <td>81452156.0</td>\n",
       "      <td>127.0</td>\n",
       "      <td>[{'iso_639_1': 'en', 'name': 'English'}]</td>\n",
       "      <td>Waiting to Exhale</td>\n",
       "      <td>6.1</td>\n",
       "      <td>34.0</td>\n",
       "    </tr>\n",
       "    <tr>\n",
       "      <th>4</th>\n",
       "      <td>False</td>\n",
       "      <td>0</td>\n",
       "      <td>[{'id': 35, 'name': 'Comedy'}]</td>\n",
       "      <td>11862</td>\n",
       "      <td>tt0113041</td>\n",
       "      <td>en</td>\n",
       "      <td>8.38752</td>\n",
       "      <td>[{'name': 'Sandollar Productions', 'id': 5842}...</td>\n",
       "      <td>[{'iso_3166_1': 'US', 'name': 'United States o...</td>\n",
       "      <td>1995-02-10</td>\n",
       "      <td>76578911.0</td>\n",
       "      <td>106.0</td>\n",
       "      <td>[{'iso_639_1': 'en', 'name': 'English'}]</td>\n",
       "      <td>Father of the Bride Part II</td>\n",
       "      <td>5.7</td>\n",
       "      <td>173.0</td>\n",
       "    </tr>\n",
       "  </tbody>\n",
       "</table>\n",
       "</div>"
      ],
      "text/plain": [
       "   adult    budget                                             genres     id  \\\n",
       "0  False  30000000  [{'id': 16, 'name': 'Animation'}, {'id': 35, '...    862   \n",
       "1  False  65000000  [{'id': 12, 'name': 'Adventure'}, {'id': 14, '...   8844   \n",
       "2  False         0  [{'id': 10749, 'name': 'Romance'}, {'id': 35, ...  15602   \n",
       "3  False  16000000  [{'id': 35, 'name': 'Comedy'}, {'id': 18, 'nam...  31357   \n",
       "4  False         0                     [{'id': 35, 'name': 'Comedy'}]  11862   \n",
       "\n",
       "     imdb_id original_language popularity  \\\n",
       "0  tt0114709                en    21.9469   \n",
       "1  tt0113497                en    17.0155   \n",
       "2  tt0113228                en    11.7129   \n",
       "3  tt0114885                en    3.85949   \n",
       "4  tt0113041                en    8.38752   \n",
       "\n",
       "                                production_companies  \\\n",
       "0     [{'name': 'Pixar Animation Studios', 'id': 3}]   \n",
       "1  [{'name': 'TriStar Pictures', 'id': 559}, {'na...   \n",
       "2  [{'name': 'Warner Bros.', 'id': 6194}, {'name'...   \n",
       "3  [{'name': 'Twentieth Century Fox Film Corporat...   \n",
       "4  [{'name': 'Sandollar Productions', 'id': 5842}...   \n",
       "\n",
       "                                production_countries release_date  \\\n",
       "0  [{'iso_3166_1': 'US', 'name': 'United States o...   1995-10-30   \n",
       "1  [{'iso_3166_1': 'US', 'name': 'United States o...   1995-12-15   \n",
       "2  [{'iso_3166_1': 'US', 'name': 'United States o...   1995-12-22   \n",
       "3  [{'iso_3166_1': 'US', 'name': 'United States o...   1995-12-22   \n",
       "4  [{'iso_3166_1': 'US', 'name': 'United States o...   1995-02-10   \n",
       "\n",
       "       revenue  runtime                                   spoken_languages  \\\n",
       "0  373554033.0     81.0           [{'iso_639_1': 'en', 'name': 'English'}]   \n",
       "1  262797249.0    104.0  [{'iso_639_1': 'en', 'name': 'English'}, {'iso...   \n",
       "2          0.0    101.0           [{'iso_639_1': 'en', 'name': 'English'}]   \n",
       "3   81452156.0    127.0           [{'iso_639_1': 'en', 'name': 'English'}]   \n",
       "4   76578911.0    106.0           [{'iso_639_1': 'en', 'name': 'English'}]   \n",
       "\n",
       "                         title  vote_average  vote_count  \n",
       "0                    Toy Story           7.7      5415.0  \n",
       "1                      Jumanji           6.9      2413.0  \n",
       "2             Grumpier Old Men           6.5        92.0  \n",
       "3            Waiting to Exhale           6.1        34.0  \n",
       "4  Father of the Bride Part II           5.7       173.0  "
      ]
     },
     "execution_count": 24,
     "metadata": {},
     "output_type": "execute_result"
    }
   ],
   "source": [
    "data.head()"
   ]
  },
  {
   "cell_type": "code",
   "execution_count": 25,
   "metadata": {},
   "outputs": [
    {
     "data": {
      "text/plain": [
       "runtime                 263\n",
       "release_date             87\n",
       "imdb_id                  17\n",
       "original_language        11\n",
       "vote_count                6\n",
       "vote_average              6\n",
       "title                     6\n",
       "spoken_languages          6\n",
       "revenue                   6\n",
       "popularity                5\n",
       "production_countries      3\n",
       "production_companies      3\n",
       "id                        0\n",
       "genres                    0\n",
       "budget                    0\n",
       "adult                     0\n",
       "dtype: int64"
      ]
     },
     "execution_count": 25,
     "metadata": {},
     "output_type": "execute_result"
    }
   ],
   "source": [
    "data.isna().sum().sort_values(ascending=False)"
   ]
  },
  {
   "cell_type": "code",
   "execution_count": 26,
   "metadata": {},
   "outputs": [
    {
     "data": {
      "text/plain": [
       "(45107, 16)"
      ]
     },
     "execution_count": 26,
     "metadata": {},
     "output_type": "execute_result"
    }
   ],
   "source": [
    "data.dropna(inplace=True)\n",
    "data.shape"
   ]
  },
  {
   "cell_type": "code",
   "execution_count": 27,
   "metadata": {},
   "outputs": [
    {
     "data": {
      "text/plain": [
       "vote_count              0\n",
       "vote_average            0\n",
       "title                   0\n",
       "spoken_languages        0\n",
       "runtime                 0\n",
       "revenue                 0\n",
       "release_date            0\n",
       "production_countries    0\n",
       "production_companies    0\n",
       "popularity              0\n",
       "original_language       0\n",
       "imdb_id                 0\n",
       "id                      0\n",
       "genres                  0\n",
       "budget                  0\n",
       "adult                   0\n",
       "dtype: int64"
      ]
     },
     "execution_count": 27,
     "metadata": {},
     "output_type": "execute_result"
    }
   ],
   "source": [
    "data.isna().sum().sort_values(ascending=False)"
   ]
  },
  {
   "cell_type": "code",
   "execution_count": 28,
   "metadata": {},
   "outputs": [
    {
     "data": {
      "text/html": [
       "<div>\n",
       "<style scoped>\n",
       "    .dataframe tbody tr th:only-of-type {\n",
       "        vertical-align: middle;\n",
       "    }\n",
       "\n",
       "    .dataframe tbody tr th {\n",
       "        vertical-align: top;\n",
       "    }\n",
       "\n",
       "    .dataframe thead th {\n",
       "        text-align: right;\n",
       "    }\n",
       "</style>\n",
       "<table border=\"1\" class=\"dataframe\">\n",
       "  <thead>\n",
       "    <tr style=\"text-align: right;\">\n",
       "      <th></th>\n",
       "      <th>adult</th>\n",
       "      <th>budget</th>\n",
       "      <th>genres</th>\n",
       "      <th>id</th>\n",
       "      <th>imdb_id</th>\n",
       "      <th>original_language</th>\n",
       "      <th>popularity</th>\n",
       "      <th>production_companies</th>\n",
       "      <th>production_countries</th>\n",
       "      <th>release_date</th>\n",
       "      <th>revenue</th>\n",
       "      <th>runtime</th>\n",
       "      <th>spoken_languages</th>\n",
       "      <th>title</th>\n",
       "      <th>vote_average</th>\n",
       "      <th>vote_count</th>\n",
       "    </tr>\n",
       "  </thead>\n",
       "  <tbody>\n",
       "    <tr>\n",
       "      <th>0</th>\n",
       "      <td>False</td>\n",
       "      <td>30000000</td>\n",
       "      <td>[{'id': 16, 'name': 'Animation'}, {'id': 35, '...</td>\n",
       "      <td>862</td>\n",
       "      <td>tt0114709</td>\n",
       "      <td>en</td>\n",
       "      <td>21.9469</td>\n",
       "      <td>[{'name': 'Pixar Animation Studios', 'id': 3}]</td>\n",
       "      <td>[{'iso_3166_1': 'US', 'name': 'United States o...</td>\n",
       "      <td>1995-10-30</td>\n",
       "      <td>373554033.0</td>\n",
       "      <td>81.0</td>\n",
       "      <td>[{'iso_639_1': 'en', 'name': 'English'}]</td>\n",
       "      <td>Toy Story</td>\n",
       "      <td>7.7</td>\n",
       "      <td>5415.0</td>\n",
       "    </tr>\n",
       "    <tr>\n",
       "      <th>1</th>\n",
       "      <td>False</td>\n",
       "      <td>65000000</td>\n",
       "      <td>[{'id': 12, 'name': 'Adventure'}, {'id': 14, '...</td>\n",
       "      <td>8844</td>\n",
       "      <td>tt0113497</td>\n",
       "      <td>en</td>\n",
       "      <td>17.0155</td>\n",
       "      <td>[{'name': 'TriStar Pictures', 'id': 559}, {'na...</td>\n",
       "      <td>[{'iso_3166_1': 'US', 'name': 'United States o...</td>\n",
       "      <td>1995-12-15</td>\n",
       "      <td>262797249.0</td>\n",
       "      <td>104.0</td>\n",
       "      <td>[{'iso_639_1': 'en', 'name': 'English'}, {'iso...</td>\n",
       "      <td>Jumanji</td>\n",
       "      <td>6.9</td>\n",
       "      <td>2413.0</td>\n",
       "    </tr>\n",
       "    <tr>\n",
       "      <th>2</th>\n",
       "      <td>False</td>\n",
       "      <td>0</td>\n",
       "      <td>[{'id': 10749, 'name': 'Romance'}, {'id': 35, ...</td>\n",
       "      <td>15602</td>\n",
       "      <td>tt0113228</td>\n",
       "      <td>en</td>\n",
       "      <td>11.7129</td>\n",
       "      <td>[{'name': 'Warner Bros.', 'id': 6194}, {'name'...</td>\n",
       "      <td>[{'iso_3166_1': 'US', 'name': 'United States o...</td>\n",
       "      <td>1995-12-22</td>\n",
       "      <td>0.0</td>\n",
       "      <td>101.0</td>\n",
       "      <td>[{'iso_639_1': 'en', 'name': 'English'}]</td>\n",
       "      <td>Grumpier Old Men</td>\n",
       "      <td>6.5</td>\n",
       "      <td>92.0</td>\n",
       "    </tr>\n",
       "    <tr>\n",
       "      <th>3</th>\n",
       "      <td>False</td>\n",
       "      <td>16000000</td>\n",
       "      <td>[{'id': 35, 'name': 'Comedy'}, {'id': 18, 'nam...</td>\n",
       "      <td>31357</td>\n",
       "      <td>tt0114885</td>\n",
       "      <td>en</td>\n",
       "      <td>3.85949</td>\n",
       "      <td>[{'name': 'Twentieth Century Fox Film Corporat...</td>\n",
       "      <td>[{'iso_3166_1': 'US', 'name': 'United States o...</td>\n",
       "      <td>1995-12-22</td>\n",
       "      <td>81452156.0</td>\n",
       "      <td>127.0</td>\n",
       "      <td>[{'iso_639_1': 'en', 'name': 'English'}]</td>\n",
       "      <td>Waiting to Exhale</td>\n",
       "      <td>6.1</td>\n",
       "      <td>34.0</td>\n",
       "    </tr>\n",
       "    <tr>\n",
       "      <th>4</th>\n",
       "      <td>False</td>\n",
       "      <td>0</td>\n",
       "      <td>[{'id': 35, 'name': 'Comedy'}]</td>\n",
       "      <td>11862</td>\n",
       "      <td>tt0113041</td>\n",
       "      <td>en</td>\n",
       "      <td>8.38752</td>\n",
       "      <td>[{'name': 'Sandollar Productions', 'id': 5842}...</td>\n",
       "      <td>[{'iso_3166_1': 'US', 'name': 'United States o...</td>\n",
       "      <td>1995-02-10</td>\n",
       "      <td>76578911.0</td>\n",
       "      <td>106.0</td>\n",
       "      <td>[{'iso_639_1': 'en', 'name': 'English'}]</td>\n",
       "      <td>Father of the Bride Part II</td>\n",
       "      <td>5.7</td>\n",
       "      <td>173.0</td>\n",
       "    </tr>\n",
       "  </tbody>\n",
       "</table>\n",
       "</div>"
      ],
      "text/plain": [
       "   adult    budget                                             genres     id  \\\n",
       "0  False  30000000  [{'id': 16, 'name': 'Animation'}, {'id': 35, '...    862   \n",
       "1  False  65000000  [{'id': 12, 'name': 'Adventure'}, {'id': 14, '...   8844   \n",
       "2  False         0  [{'id': 10749, 'name': 'Romance'}, {'id': 35, ...  15602   \n",
       "3  False  16000000  [{'id': 35, 'name': 'Comedy'}, {'id': 18, 'nam...  31357   \n",
       "4  False         0                     [{'id': 35, 'name': 'Comedy'}]  11862   \n",
       "\n",
       "     imdb_id original_language popularity  \\\n",
       "0  tt0114709                en    21.9469   \n",
       "1  tt0113497                en    17.0155   \n",
       "2  tt0113228                en    11.7129   \n",
       "3  tt0114885                en    3.85949   \n",
       "4  tt0113041                en    8.38752   \n",
       "\n",
       "                                production_companies  \\\n",
       "0     [{'name': 'Pixar Animation Studios', 'id': 3}]   \n",
       "1  [{'name': 'TriStar Pictures', 'id': 559}, {'na...   \n",
       "2  [{'name': 'Warner Bros.', 'id': 6194}, {'name'...   \n",
       "3  [{'name': 'Twentieth Century Fox Film Corporat...   \n",
       "4  [{'name': 'Sandollar Productions', 'id': 5842}...   \n",
       "\n",
       "                                production_countries release_date  \\\n",
       "0  [{'iso_3166_1': 'US', 'name': 'United States o...   1995-10-30   \n",
       "1  [{'iso_3166_1': 'US', 'name': 'United States o...   1995-12-15   \n",
       "2  [{'iso_3166_1': 'US', 'name': 'United States o...   1995-12-22   \n",
       "3  [{'iso_3166_1': 'US', 'name': 'United States o...   1995-12-22   \n",
       "4  [{'iso_3166_1': 'US', 'name': 'United States o...   1995-02-10   \n",
       "\n",
       "       revenue  runtime                                   spoken_languages  \\\n",
       "0  373554033.0     81.0           [{'iso_639_1': 'en', 'name': 'English'}]   \n",
       "1  262797249.0    104.0  [{'iso_639_1': 'en', 'name': 'English'}, {'iso...   \n",
       "2          0.0    101.0           [{'iso_639_1': 'en', 'name': 'English'}]   \n",
       "3   81452156.0    127.0           [{'iso_639_1': 'en', 'name': 'English'}]   \n",
       "4   76578911.0    106.0           [{'iso_639_1': 'en', 'name': 'English'}]   \n",
       "\n",
       "                         title  vote_average  vote_count  \n",
       "0                    Toy Story           7.7      5415.0  \n",
       "1                      Jumanji           6.9      2413.0  \n",
       "2             Grumpier Old Men           6.5        92.0  \n",
       "3            Waiting to Exhale           6.1        34.0  \n",
       "4  Father of the Bride Part II           5.7       173.0  "
      ]
     },
     "execution_count": 28,
     "metadata": {},
     "output_type": "execute_result"
    }
   ],
   "source": [
    "data.head()"
   ]
  },
  {
   "cell_type": "code",
   "execution_count": 29,
   "metadata": {},
   "outputs": [
    {
     "name": "stdout",
     "output_type": "stream",
     "text": [
      "(45107, 16)\n"
     ]
    }
   ],
   "source": [
    "print(data.shape)"
   ]
  },
  {
   "cell_type": "code",
   "execution_count": 30,
   "metadata": {},
   "outputs": [],
   "source": [
    "data = data[~(data == '0').any(axis=1)]"
   ]
  },
  {
   "cell_type": "code",
   "execution_count": 31,
   "metadata": {},
   "outputs": [
    {
     "name": "stdout",
     "output_type": "stream",
     "text": [
      "(8875, 16)\n"
     ]
    }
   ],
   "source": [
    "print(data.shape)"
   ]
  },
  {
   "cell_type": "code",
   "execution_count": 32,
   "metadata": {},
   "outputs": [],
   "source": [
    "data = data[~(data == 0.0).any(axis=1)]"
   ]
  },
  {
   "cell_type": "code",
   "execution_count": 33,
   "metadata": {},
   "outputs": [
    {
     "name": "stdout",
     "output_type": "stream",
     "text": [
      "(5362, 16)\n"
     ]
    },
    {
     "data": {
      "text/html": [
       "<div>\n",
       "<style scoped>\n",
       "    .dataframe tbody tr th:only-of-type {\n",
       "        vertical-align: middle;\n",
       "    }\n",
       "\n",
       "    .dataframe tbody tr th {\n",
       "        vertical-align: top;\n",
       "    }\n",
       "\n",
       "    .dataframe thead th {\n",
       "        text-align: right;\n",
       "    }\n",
       "</style>\n",
       "<table border=\"1\" class=\"dataframe\">\n",
       "  <thead>\n",
       "    <tr style=\"text-align: right;\">\n",
       "      <th></th>\n",
       "      <th>adult</th>\n",
       "      <th>budget</th>\n",
       "      <th>genres</th>\n",
       "      <th>id</th>\n",
       "      <th>imdb_id</th>\n",
       "      <th>original_language</th>\n",
       "      <th>popularity</th>\n",
       "      <th>production_companies</th>\n",
       "      <th>production_countries</th>\n",
       "      <th>release_date</th>\n",
       "      <th>revenue</th>\n",
       "      <th>runtime</th>\n",
       "      <th>spoken_languages</th>\n",
       "      <th>title</th>\n",
       "      <th>vote_average</th>\n",
       "      <th>vote_count</th>\n",
       "    </tr>\n",
       "  </thead>\n",
       "  <tbody>\n",
       "    <tr>\n",
       "      <th>0</th>\n",
       "      <td>False</td>\n",
       "      <td>30000000</td>\n",
       "      <td>[{'id': 16, 'name': 'Animation'}, {'id': 35, '...</td>\n",
       "      <td>862</td>\n",
       "      <td>tt0114709</td>\n",
       "      <td>en</td>\n",
       "      <td>21.9469</td>\n",
       "      <td>[{'name': 'Pixar Animation Studios', 'id': 3}]</td>\n",
       "      <td>[{'iso_3166_1': 'US', 'name': 'United States o...</td>\n",
       "      <td>1995-10-30</td>\n",
       "      <td>373554033.0</td>\n",
       "      <td>81.0</td>\n",
       "      <td>[{'iso_639_1': 'en', 'name': 'English'}]</td>\n",
       "      <td>Toy Story</td>\n",
       "      <td>7.7</td>\n",
       "      <td>5415.0</td>\n",
       "    </tr>\n",
       "    <tr>\n",
       "      <th>1</th>\n",
       "      <td>False</td>\n",
       "      <td>65000000</td>\n",
       "      <td>[{'id': 12, 'name': 'Adventure'}, {'id': 14, '...</td>\n",
       "      <td>8844</td>\n",
       "      <td>tt0113497</td>\n",
       "      <td>en</td>\n",
       "      <td>17.0155</td>\n",
       "      <td>[{'name': 'TriStar Pictures', 'id': 559}, {'na...</td>\n",
       "      <td>[{'iso_3166_1': 'US', 'name': 'United States o...</td>\n",
       "      <td>1995-12-15</td>\n",
       "      <td>262797249.0</td>\n",
       "      <td>104.0</td>\n",
       "      <td>[{'iso_639_1': 'en', 'name': 'English'}, {'iso...</td>\n",
       "      <td>Jumanji</td>\n",
       "      <td>6.9</td>\n",
       "      <td>2413.0</td>\n",
       "    </tr>\n",
       "    <tr>\n",
       "      <th>3</th>\n",
       "      <td>False</td>\n",
       "      <td>16000000</td>\n",
       "      <td>[{'id': 35, 'name': 'Comedy'}, {'id': 18, 'nam...</td>\n",
       "      <td>31357</td>\n",
       "      <td>tt0114885</td>\n",
       "      <td>en</td>\n",
       "      <td>3.85949</td>\n",
       "      <td>[{'name': 'Twentieth Century Fox Film Corporat...</td>\n",
       "      <td>[{'iso_3166_1': 'US', 'name': 'United States o...</td>\n",
       "      <td>1995-12-22</td>\n",
       "      <td>81452156.0</td>\n",
       "      <td>127.0</td>\n",
       "      <td>[{'iso_639_1': 'en', 'name': 'English'}]</td>\n",
       "      <td>Waiting to Exhale</td>\n",
       "      <td>6.1</td>\n",
       "      <td>34.0</td>\n",
       "    </tr>\n",
       "    <tr>\n",
       "      <th>5</th>\n",
       "      <td>False</td>\n",
       "      <td>60000000</td>\n",
       "      <td>[{'id': 28, 'name': 'Action'}, {'id': 80, 'nam...</td>\n",
       "      <td>949</td>\n",
       "      <td>tt0113277</td>\n",
       "      <td>en</td>\n",
       "      <td>17.9249</td>\n",
       "      <td>[{'name': 'Regency Enterprises', 'id': 508}, {...</td>\n",
       "      <td>[{'iso_3166_1': 'US', 'name': 'United States o...</td>\n",
       "      <td>1995-12-15</td>\n",
       "      <td>187436818.0</td>\n",
       "      <td>170.0</td>\n",
       "      <td>[{'iso_639_1': 'en', 'name': 'English'}, {'iso...</td>\n",
       "      <td>Heat</td>\n",
       "      <td>7.7</td>\n",
       "      <td>1886.0</td>\n",
       "    </tr>\n",
       "    <tr>\n",
       "      <th>8</th>\n",
       "      <td>False</td>\n",
       "      <td>35000000</td>\n",
       "      <td>[{'id': 28, 'name': 'Action'}, {'id': 12, 'nam...</td>\n",
       "      <td>9091</td>\n",
       "      <td>tt0114576</td>\n",
       "      <td>en</td>\n",
       "      <td>5.23158</td>\n",
       "      <td>[{'name': 'Universal Pictures', 'id': 33}, {'n...</td>\n",
       "      <td>[{'iso_3166_1': 'US', 'name': 'United States o...</td>\n",
       "      <td>1995-12-22</td>\n",
       "      <td>64350171.0</td>\n",
       "      <td>106.0</td>\n",
       "      <td>[{'iso_639_1': 'en', 'name': 'English'}]</td>\n",
       "      <td>Sudden Death</td>\n",
       "      <td>5.5</td>\n",
       "      <td>174.0</td>\n",
       "    </tr>\n",
       "  </tbody>\n",
       "</table>\n",
       "</div>"
      ],
      "text/plain": [
       "   adult    budget                                             genres     id  \\\n",
       "0  False  30000000  [{'id': 16, 'name': 'Animation'}, {'id': 35, '...    862   \n",
       "1  False  65000000  [{'id': 12, 'name': 'Adventure'}, {'id': 14, '...   8844   \n",
       "3  False  16000000  [{'id': 35, 'name': 'Comedy'}, {'id': 18, 'nam...  31357   \n",
       "5  False  60000000  [{'id': 28, 'name': 'Action'}, {'id': 80, 'nam...    949   \n",
       "8  False  35000000  [{'id': 28, 'name': 'Action'}, {'id': 12, 'nam...   9091   \n",
       "\n",
       "     imdb_id original_language popularity  \\\n",
       "0  tt0114709                en    21.9469   \n",
       "1  tt0113497                en    17.0155   \n",
       "3  tt0114885                en    3.85949   \n",
       "5  tt0113277                en    17.9249   \n",
       "8  tt0114576                en    5.23158   \n",
       "\n",
       "                                production_companies  \\\n",
       "0     [{'name': 'Pixar Animation Studios', 'id': 3}]   \n",
       "1  [{'name': 'TriStar Pictures', 'id': 559}, {'na...   \n",
       "3  [{'name': 'Twentieth Century Fox Film Corporat...   \n",
       "5  [{'name': 'Regency Enterprises', 'id': 508}, {...   \n",
       "8  [{'name': 'Universal Pictures', 'id': 33}, {'n...   \n",
       "\n",
       "                                production_countries release_date  \\\n",
       "0  [{'iso_3166_1': 'US', 'name': 'United States o...   1995-10-30   \n",
       "1  [{'iso_3166_1': 'US', 'name': 'United States o...   1995-12-15   \n",
       "3  [{'iso_3166_1': 'US', 'name': 'United States o...   1995-12-22   \n",
       "5  [{'iso_3166_1': 'US', 'name': 'United States o...   1995-12-15   \n",
       "8  [{'iso_3166_1': 'US', 'name': 'United States o...   1995-12-22   \n",
       "\n",
       "       revenue  runtime                                   spoken_languages  \\\n",
       "0  373554033.0     81.0           [{'iso_639_1': 'en', 'name': 'English'}]   \n",
       "1  262797249.0    104.0  [{'iso_639_1': 'en', 'name': 'English'}, {'iso...   \n",
       "3   81452156.0    127.0           [{'iso_639_1': 'en', 'name': 'English'}]   \n",
       "5  187436818.0    170.0  [{'iso_639_1': 'en', 'name': 'English'}, {'iso...   \n",
       "8   64350171.0    106.0           [{'iso_639_1': 'en', 'name': 'English'}]   \n",
       "\n",
       "               title  vote_average  vote_count  \n",
       "0          Toy Story           7.7      5415.0  \n",
       "1            Jumanji           6.9      2413.0  \n",
       "3  Waiting to Exhale           6.1        34.0  \n",
       "5               Heat           7.7      1886.0  \n",
       "8       Sudden Death           5.5       174.0  "
      ]
     },
     "execution_count": 33,
     "metadata": {},
     "output_type": "execute_result"
    }
   ],
   "source": [
    "print(data.shape)\n",
    "data.head()"
   ]
  }
 ],
 "metadata": {
  "kernelspec": {
   "display_name": "Python 3",
   "language": "python",
   "name": "python3"
  },
  "language_info": {
   "codemirror_mode": {
    "name": "ipython",
    "version": 3
   },
   "file_extension": ".py",
   "mimetype": "text/x-python",
   "name": "python",
   "nbconvert_exporter": "python",
   "pygments_lexer": "ipython3",
   "version": "3.7.1"
  }
 },
 "nbformat": 4,
 "nbformat_minor": 2
}
