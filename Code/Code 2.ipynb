{
 "cells": [
  {
   "cell_type": "code",
   "execution_count": 1,
   "metadata": {},
   "outputs": [],
   "source": [
    "import pandas as pd\n",
    "import numpy as np\n",
    "import matplotlib.pyplot as plt\n",
    "import datetime\n",
    "import seaborn as sea\n",
    "import random\n",
    "import scipy.stats as stats\n",
    "from collections import defaultdict\n",
    "from scipy import stats\n",
    "from ast import literal_eval\n",
    "from sklearn.feature_extraction.text import TfidfVectorizer, CountVectorizer\n",
    "from sklearn.metrics.pairwise import linear_kernel, cosine_similarity\n",
    "from nltk.stem.snowball import SnowballStemmer\n",
    "from nltk.stem.wordnet import WordNetLemmatizer\n",
    "from nltk.corpus import wordnet\n",
    "from sklearn.model_selection import train_test_split, cross_val_score\n",
    "from sklearn import tree\n",
    "from sklearn import linear_model\n",
    "from sklearn.model_selection import KFold\n",
    "from sklearn.ensemble import RandomForestRegressor, GradientBoostingRegressor, AdaBoostRegressor\n",
    "from sklearn import metrics\n",
    "from sklearn.metrics import mean_absolute_error, mean_squared_error, median_absolute_error, explained_variance_score, r2_score\n",
    "from sklearn import preprocessing\n",
    "from sklearn.preprocessing import LabelEncoder, OneHotEncoder\n",
    "from sklearn.feature_extraction.text import TfidfVectorizer, CountVectorizer, HashingVectorizer\n",
    "\n",
    "import warnings; warnings.simplefilter('ignore')\n",
    "\n",
    "data = pd.read_csv('movies_metadata.csv')\n",
    "data.drop(['belongs_to_collection', 'homepage', 'original_title', 'overview', 'poster_path', 'tagline', 'status', 'video', 'id', 'imdb_id'],axis=1,inplace=True)\n",
    "data.dropna(inplace=True)\n",
    "data['budget'] = data['budget'].astype(np.float)\n",
    "data['popularity'] = data['popularity'].astype(np.float)\n",
    "data = data[~(data == 0).any(axis=1)]\n",
    "data['revenueinlog'] = np.log1p(data['revenue'])\n",
    "data['revenuemillions'] = data['revenue']/1000000\n",
    "\n",
    "data['genres'] = data['genres'].fillna('[]').apply(literal_eval).apply(lambda x: [i['name'] for i in x] if isinstance(x, list) else [])\n",
    "data['production_companies'] = data['production_companies'].fillna('[]').apply(literal_eval).apply(lambda x: [i['name'] for i in x] if isinstance(x, list) else [])\n",
    "data['production_countries'] = data['production_countries'].fillna('[]').apply(literal_eval).apply(lambda x: [i['name'] for i in x] if isinstance(x, list) else [])\n",
    "data['spoken_languages'] = data['spoken_languages'].fillna('[]').apply(literal_eval).apply(lambda x: [i['name'] for i in x] if isinstance(x, list) else [])\n"
   ]
  },
  {
   "cell_type": "code",
   "execution_count": 2,
   "metadata": {},
   "outputs": [],
   "source": [
    "data['release_date'] = pd.to_datetime(data['release_date'], infer_datetime_format=True)\n",
    "data['day'] = data['release_date'].apply(lambda t: t.day)\n",
    "data['weekday'] = data['release_date'].apply(lambda t: t.weekday())\n",
    "data['month'] = data['release_date'].apply(lambda t: t.month)\n",
    "data['year'] = data['release_date'].apply(lambda t: t.year if t.year < 2018 else t.year -100)\n",
    "# Year was being interpreted as future dates in some cases so I had to adjust some values\n"
   ]
  },
  {
   "cell_type": "code",
   "execution_count": 3,
   "metadata": {},
   "outputs": [
    {
     "name": "stdout",
     "output_type": "stream",
     "text": [
      "budget (1.0, 0.0)\n",
      "popularity (0.3071516772660544, 1.633594934752139e-117)\n",
      "revenue (0.7299914747137763, 0.0)\n",
      "runtime (0.19108877683786404, 2.8745731959592137e-45)\n",
      "vote_average (-0.013256789119359867, 0.33177057205340066)\n",
      "vote_count (0.5860845154191411, 0.0)\n",
      "revenueinlog (0.5092390508941195, 0.0)\n",
      "revenuemillions (0.7299914747137763, 0.0)\n",
      "day (0.032231196436209766, 0.01826438864150039)\n",
      "weekday (-0.13462961495943623, 4.1150890487167184e-23)\n",
      "month (0.02503400973423872, 0.06680373071447869)\n",
      "year (0.26580236416433906, 2.1435284304329103e-87)\n"
     ]
    }
   ],
   "source": [
    "#data[['release_date','day','week','month','year']].head()\n",
    "#sea.countplot(x='day',data=data)\n",
    "#sea.countplot(x='weekday',data=data)\n",
    "#sea.countplot(x='month',data=data)\n",
    "#plt.figure(figsize=(25,15))\n",
    "#sea.countplot(x='year',data=data)\n",
    "#plt.xticks(rotation=90)\n",
    "\n",
    "X = data[data['budget'] != 0]\n",
    "for i in X.select_dtypes(include='number', exclude='datetime'):\n",
    "    print(i, stats.pearsonr(X.budget, X[i]))"
   ]
  },
  {
   "cell_type": "code",
   "execution_count": 4,
   "metadata": {},
   "outputs": [],
   "source": [
    "# vote count and popularity correlate most strongly with budget\n",
    "def map_budget(df):\n",
    "    d = defaultdict()\n",
    "    #df['budget'] = df['budget'].fillna(0)\n",
    "    X = data[data['budget'] != 0]\n",
    "    \n",
    "    vote_count_mean = pd.Series(X.groupby(['vote_count'])['budget'].agg('mean'))\n",
    "    d = dict(vote_count_mean)\n",
    "    \n",
    "    for i in data[data['budget'] == 0]:\n",
    "        data['budget'] = data.loc[:, 'vote_count'].map(d)\n",
    "    \n",
    "    return data\n",
    "\n"
   ]
  },
  {
   "cell_type": "code",
   "execution_count": 5,
   "metadata": {},
   "outputs": [
    {
     "data": {
      "text/plain": [
       "count    5.362000e+03\n",
       "mean     3.118646e+07\n",
       "std      3.605405e+07\n",
       "min      1.000000e+00\n",
       "25%      1.113333e+07\n",
       "50%      1.975000e+07\n",
       "75%      3.500000e+07\n",
       "max      3.800000e+08\n",
       "Name: budget, dtype: float64"
      ]
     },
     "execution_count": 5,
     "metadata": {},
     "output_type": "execute_result"
    }
   ],
   "source": [
    "data = map_budget(data)\n",
    "data.budget.describe()"
   ]
  },
  {
   "cell_type": "code",
   "execution_count": 6,
   "metadata": {},
   "outputs": [
    {
     "data": {
      "text/plain": [
       "90624920.16803432"
      ]
     },
     "execution_count": 6,
     "metadata": {},
     "output_type": "execute_result"
    }
   ],
   "source": [
    "data['revenue'].mean()"
   ]
  },
  {
   "cell_type": "code",
   "execution_count": 7,
   "metadata": {},
   "outputs": [],
   "source": [
    "#s = data.apply(lambda x: pd.Series(x['genres']),axis=1).stack().reset_index(level=1, drop=True)\n",
    "#s.name = 'genre'\n",
    "\n",
    "#data =pd.concat([data,genres],axis=1)\n",
    "\n",
    "#gen_md = data.drop('genres', axis=1).join(s)\n",
    "#gen_md['revenue'].mean()"
   ]
  },
  {
   "cell_type": "code",
   "execution_count": 11,
   "metadata": {},
   "outputs": [],
   "source": [
    "def regression_with_cross_validation(model, data, target, n_fold, model_name, pred_type):\n",
    "    print(pred_type, \" (Regression Model: \", model_name)\n",
    "    cross_val_score_mean_abs_err  = cross_val_score(model, data, target, scoring = 'mean_absolute_error', cv = n_fold) \n",
    "    print(\"\\nCross Validation Score (Mean Absolute Error)        : \\n\", -cross_val_score_mean_abs_err)\n",
    "    print(\"\\nCross Validation Score (Mean Absolute Error) (Mean) : \\n\", -cross_val_score_mean_abs_err.mean())\n",
    "    cross_val_score_mean_sqr_err  = cross_val_score(model, data, target, scoring = 'mean_squared_error', cv = n_fold)  \n",
    "    print(\"\\nCross Validation Score (Mean Squared Error)         : \\n\", -cross_val_score_mean_sqr_err)\n",
    "    print(\"\\nCross Validation Score (Mean Squared Error)  (Mean) : \\n\", -cross_val_score_mean_sqr_err.mean())"
   ]
  },
  {
   "cell_type": "code",
   "execution_count": 12,
   "metadata": {},
   "outputs": [
    {
     "ename": "NameError",
     "evalue": "name 'preprocessed_data' is not defined",
     "output_type": "error",
     "traceback": [
      "\u001b[1;31m---------------------------------------------------------------------------\u001b[0m",
      "\u001b[1;31mNameError\u001b[0m                                 Traceback (most recent call last)",
      "\u001b[1;32m<ipython-input-12-9fa66fe85697>\u001b[0m in \u001b[0;36m<module>\u001b[1;34m\u001b[0m\n\u001b[0;32m      1\u001b[0m \u001b[0mrandomForestRegressorModel\u001b[0m \u001b[1;33m=\u001b[0m \u001b[0mRandomForestRegressor\u001b[0m\u001b[1;33m(\u001b[0m\u001b[1;33m)\u001b[0m\u001b[1;33m\u001b[0m\u001b[1;33m\u001b[0m\u001b[0m\n\u001b[1;32m----> 2\u001b[1;33m \u001b[0mregression_with_cross_validation\u001b[0m\u001b[1;33m(\u001b[0m\u001b[0mrandomForestRegressorModel\u001b[0m\u001b[1;33m,\u001b[0m \u001b[0mpreprocessed_data\u001b[0m\u001b[1;33m,\u001b[0m \u001b[0mtarget_gross\u001b[0m\u001b[1;33m,\u001b[0m \u001b[1;36m5\u001b[0m\u001b[1;33m,\u001b[0m \u001b[1;34m\"Random Forest Regression\"\u001b[0m\u001b[1;33m,\u001b[0m \u001b[1;34m\"(Movie Gross Prediction)\"\u001b[0m\u001b[1;33m)\u001b[0m\u001b[1;33m\u001b[0m\u001b[1;33m\u001b[0m\u001b[0m\n\u001b[0m",
      "\u001b[1;31mNameError\u001b[0m: name 'preprocessed_data' is not defined"
     ]
    }
   ],
   "source": [
    "randomForestRegressorModel = RandomForestRegressor()\n",
    "regression_with_cross_validation(randomForestRegressorModel, preprocessed_data, target_gross, 5, \"Random Forest Regression\", \"(Movie Gross Prediction)\")\n"
   ]
  },
  {
   "cell_type": "code",
   "execution_count": null,
   "metadata": {},
   "outputs": [],
   "source": []
  }
 ],
 "metadata": {
  "kernelspec": {
   "display_name": "Python 3",
   "language": "python",
   "name": "python3"
  },
  "language_info": {
   "codemirror_mode": {
    "name": "ipython",
    "version": 3
   },
   "file_extension": ".py",
   "mimetype": "text/x-python",
   "name": "python",
   "nbconvert_exporter": "python",
   "pygments_lexer": "ipython3",
   "version": "3.7.1"
  }
 },
 "nbformat": 4,
 "nbformat_minor": 2
}
