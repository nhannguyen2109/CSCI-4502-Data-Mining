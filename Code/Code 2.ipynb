{
 "cells": [
  {
   "cell_type": "code",
   "execution_count": 1,
   "metadata": {},
   "outputs": [],
   "source": [
    "import pandas as pd\n",
    "import numpy as np\n",
    "import matplotlib.pyplot as plt\n",
    "import datetime\n",
    "import seaborn as sea\n",
    "import random\n",
    "import scipy.stats as stats\n",
    "#!pip install xgboost\n",
    "from collections import defaultdict\n",
    "from scipy import stats\n",
    "from ast import literal_eval\n",
    "from sklearn.feature_extraction.text import TfidfVectorizer, CountVectorizer\n",
    "from sklearn.metrics.pairwise import linear_kernel, cosine_similarity\n",
    "from nltk.stem.snowball import SnowballStemmer\n",
    "from nltk.stem.wordnet import WordNetLemmatizer\n",
    "from nltk.corpus import wordnet\n",
    "from sklearn.model_selection import train_test_split, cross_val_score\n",
    "from sklearn import tree\n",
    "from sklearn import linear_model\n",
    "from sklearn.linear_model import LinearRegression\n",
    "from sklearn.model_selection import KFold\n",
    "from sklearn.ensemble import RandomForestRegressor, GradientBoostingRegressor, AdaBoostRegressor\n",
    "from sklearn import metrics\n",
    "from sklearn.metrics import mean_absolute_error, mean_squared_error, median_absolute_error, explained_variance_score, r2_score, classification_report\n",
    "from sklearn import preprocessing\n",
    "from sklearn.preprocessing import LabelEncoder, OneHotEncoder\n",
    "from sklearn.feature_extraction.text import TfidfVectorizer, CountVectorizer, HashingVectorizer\n",
    "#from xgboost import XGBRegressor\n",
    "#from lightgbm import LGBMRegressor\n",
    "import warnings; warnings.simplefilter('ignore')\n",
    "\n",
    "data = pd.read_csv('movies_metadata.csv')\n",
    "data.drop(['belongs_to_collection', 'homepage', 'original_title', 'overview','production_companies' , 'tagline', 'status', 'video', 'id', 'imdb_id'],axis=1,inplace=True)\n",
    "data.dropna(inplace=True)\n",
    "data['budget'] = data['budget'].astype(np.float)\n",
    "data['popularity'] = data['popularity'].astype(np.float)\n",
    "data = data[~(data == 0).any(axis=1)]\n",
    "data['revenueinlog'] = np.log1p(data['revenue'])\n",
    "data['revenuemillions'] = data['revenue']/1000000\n",
    "\n",
    "data['genres'] = data['genres'].fillna('[]').apply(literal_eval).apply(lambda x: [i['name'] for i in x] if isinstance(x, list) else [])\n",
    "#data['production_companies'] = data['production_companies'].fillna('[]').apply(literal_eval).apply(lambda x: [i['name'] for i in x] if isinstance(x, list) else [])\n",
    "data['production_countries'] = data['production_countries'].fillna('[]').apply(literal_eval).apply(lambda x: [i['name'] for i in x] if isinstance(x, list) else [])\n",
    "data['spoken_languages'] = data['spoken_languages'].fillna('[]').apply(literal_eval).apply(lambda x: [i['name'] for i in x] if isinstance(x, list) else [])\n",
    "\n",
    "data['poster_path'].fillna(0, inplace=True)\n",
    "data.loc[data['poster_path'] != 0, 'poster_path'] = 1"
   ]
  },
  {
   "cell_type": "code",
   "execution_count": 2,
   "metadata": {},
   "outputs": [],
   "source": [
    "data['release_date'] = pd.to_datetime(data['release_date'], infer_datetime_format=True)\n",
    "data['day'] = data['release_date'].apply(lambda t: t.day)\n",
    "data['weekday'] = data['release_date'].apply(lambda t: t.weekday())\n",
    "data['month'] = data['release_date'].apply(lambda t: t.month)\n",
    "data['year'] = data['release_date'].apply(lambda t: t.year if t.year < 2018 else t.year -100)\n",
    "# Year was being interpreted as future dates in some cases so I had to adjust some values\n"
   ]
  },
  {
   "cell_type": "code",
   "execution_count": 3,
   "metadata": {},
   "outputs": [
    {
     "name": "stdout",
     "output_type": "stream",
     "text": [
      "budget (1.0, 0.0)\n",
      "popularity (0.3071516772660544, 1.633594934752139e-117)\n",
      "poster_path (nan, 1.0)\n",
      "revenue (0.7299914747137763, 0.0)\n",
      "runtime (0.19108877683786404, 2.8745731959592137e-45)\n",
      "vote_average (-0.013256789119359867, 0.33177057205340066)\n",
      "vote_count (0.5860845154191411, 0.0)\n",
      "revenueinlog (0.5092390508941195, 0.0)\n",
      "revenuemillions (0.7299914747137763, 0.0)\n",
      "day (0.032231196436209766, 0.01826438864150039)\n",
      "weekday (-0.13462961495943623, 4.1150890487167184e-23)\n",
      "month (0.02503400973423872, 0.06680373071447869)\n",
      "year (0.26580236416433906, 2.1435284304329103e-87)\n"
     ]
    }
   ],
   "source": [
    "#data[['release_date','day','week','month','year']].head()\n",
    "#sea.countplot(x='day',data=data)\n",
    "#sea.countplot(x='weekday',data=data)\n",
    "#sea.countplot(x='month',data=data)\n",
    "#plt.figure(figsize=(25,15))\n",
    "#sea.countplot(x='year',data=data)\n",
    "#plt.xticks(rotation=90)\n",
    "\n",
    "X = data[data['budget'] != 0]\n",
    "for i in X.select_dtypes(include='number', exclude='datetime'):\n",
    "    print(i, stats.pearsonr(X.budget, X[i]))"
   ]
  },
  {
   "cell_type": "code",
   "execution_count": 4,
   "metadata": {},
   "outputs": [],
   "source": [
    "# vote count and popularity correlate most strongly with budget\n",
    "def map_budget(df):\n",
    "    d = defaultdict()\n",
    "    #df['budget'] = df['budget'].fillna(0)\n",
    "    X = data[data['budget'] != 0]\n",
    "    \n",
    "    vote_count_mean = pd.Series(X.groupby(['vote_count'])['budget'].agg('mean'))\n",
    "    d = dict(vote_count_mean)\n",
    "    \n",
    "    for i in data[data['budget'] == 0]:\n",
    "        data['budget'] = data.loc[:, 'vote_count'].map(d)\n",
    "    \n",
    "    return data\n",
    "\n"
   ]
  },
  {
   "cell_type": "code",
   "execution_count": 5,
   "metadata": {},
   "outputs": [
    {
     "data": {
      "text/plain": [
       "count    5.362000e+03\n",
       "mean     3.118646e+07\n",
       "std      3.605405e+07\n",
       "min      1.000000e+00\n",
       "25%      1.113333e+07\n",
       "50%      1.975000e+07\n",
       "75%      3.500000e+07\n",
       "max      3.800000e+08\n",
       "Name: budget, dtype: float64"
      ]
     },
     "execution_count": 5,
     "metadata": {},
     "output_type": "execute_result"
    }
   ],
   "source": [
    "data = map_budget(data)\n",
    "data.budget.describe()"
   ]
  },
  {
   "cell_type": "code",
   "execution_count": 6,
   "metadata": {},
   "outputs": [],
   "source": [
    "genres= data.genres.str.get_dummies(sep=',')\n",
    "data =pd.concat([data,genres],axis=1)\n",
    "data.drop(['genres'],axis=1,inplace=True)\n",
    "#data.head()"
   ]
  },
  {
   "cell_type": "code",
   "execution_count": 7,
   "metadata": {},
   "outputs": [],
   "source": [
    "company = data.production_countries.str.get_dummies(sep=',')\n",
    "\n",
    "data =pd.concat([data,company],axis=1)\n",
    "data.drop(['production_countries'],axis=1,inplace=True)\n",
    "#data.head()"
   ]
  },
  {
   "cell_type": "code",
   "execution_count": 8,
   "metadata": {},
   "outputs": [],
   "source": [
    "language = pd.get_dummies(data['original_language'])\n",
    "\n",
    "data = pd.concat([data, language], axis=1)      \n",
    "data.drop(['original_language'], inplace=True, axis=1)"
   ]
  },
  {
   "cell_type": "code",
   "execution_count": 9,
   "metadata": {},
   "outputs": [],
   "source": [
    "data.drop(['adult', 'release_date', 'spoken_languages', 'title'],axis=1,inplace=True)"
   ]
  },
  {
   "cell_type": "code",
   "execution_count": 11,
   "metadata": {},
   "outputs": [],
   "source": [
    "database = data.drop(['revenue'],axis=1)\n",
    "target = data['revenue']\n",
    "\n",
    "train_data, test_data, train_target, test_target = train_test_split(database, target, test_size = 0.3, random_state = 0) \n",
    "#print(\"Shape of X_train is : \",database_train.shape[0])\n",
    "#print(\"Shape of y_train is : \",target_train.shape[0])\n",
    "#print(\"Shape of X_test is : \",database_test.shape[0])\n",
    "#print(\"Shape of y_test is : \",target_test.shape[0])"
   ]
  },
  {
   "cell_type": "code",
   "execution_count": 12,
   "metadata": {},
   "outputs": [],
   "source": [
    "LinearReg = LinearRegression()\n",
    "LinearReg.fit(train_data,train_target)\n",
    "Prediction = LinearReg.predict(test_data)\n",
    "\n",
    "#database_train.head()"
   ]
  },
  {
   "cell_type": "code",
   "execution_count": 13,
   "metadata": {},
   "outputs": [
    {
     "data": {
      "image/png": "[encoded data removed]",
      "text/plain": [
       "<Figure size 432x288 with 1 Axes>"
      ]
     },
     "metadata": {
      "needs_background": "light"
     },
     "output_type": "display_data"
    }
   ],
   "source": [
    "sea.distplot((test_target-Prediction),bins=50)\n",
    "plt.show()\n",
    "#target_test.head()"
   ]
  },
  {
   "cell_type": "code",
   "execution_count": null,
   "metadata": {},
   "outputs": [],
   "source": []
  }
 ],
 "metadata": {
  "kernelspec": {
   "display_name": "Python 3",
   "language": "python",
   "name": "python3"
  },
  "language_info": {
   "codemirror_mode": {
    "name": "ipython",
    "version": 3
   },
   "file_extension": ".py",
   "mimetype": "text/x-python",
   "name": "python",
   "nbconvert_exporter": "python",
   "pygments_lexer": "ipython3",
   "version": "3.7.1"
  }
 },
 "nbformat": 4,
 "nbformat_minor": 2
}
