{
 "cells": [
  {
   "cell_type": "markdown",
   "metadata": {},
   "source": [
    "<a id='top'></a>\n",
    "\n",
    "# Milestone Two: Data Cleaning\n",
    "***\n",
    "\n",
    "**Name**: Melissa Pollich, Nhan Nguyen, Benjamin Breyfogle\n",
    "\n",
    "---\n",
    "\n",
    "**Description** Look at collected datasets and figure out important/relevant attributes\n",
    "* Build/organize new database with \n",
    "* Remove duplicates\n",
    "* Remove unnecessary data points\n"
   ]
  }
 ],
 "metadata": {
  "kernelspec": {
   "display_name": "Python 3",
   "language": "python",
   "name": "python3"
  },
  "language_info": {
   "codemirror_mode": {
    "name": "ipython",
    "version": 3
   },
   "file_extension": ".py",
   "mimetype": "text/x-python",
   "name": "python",
   "nbconvert_exporter": "python",
   "pygments_lexer": "ipython3",
   "version": "3.7.1"
  }
 },
 "nbformat": 4,
 "nbformat_minor": 2
}
